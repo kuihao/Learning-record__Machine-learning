{
  "nbformat": 4,
  "nbformat_minor": 0,
  "metadata": {
    "colab": {
      "name": "Keras 課堂手寫數字辨識",
      "private_outputs": true,
      "provenance": [],
      "toc_visible": true,
      "authorship_tag": "ABX9TyOeKsfmvioH5ZSdCjzyx4b2",
      "include_colab_link": true
    },
    "kernelspec": {
      "name": "python3",
      "display_name": "Python 3"
    },
    "accelerator": "GPU"
  },
  "cells": [
    {
      "cell_type": "markdown",
      "metadata": {
        "id": "view-in-github",
        "colab_type": "text"
      },
      "source": [
        "<a href=\"https://colab.research.google.com/github/kuihao/Learning-record__Machine-learning/blob/main/Learning-record__Machine-learning/CNN/Keras_%E8%AA%B2%E5%A0%82%E6%89%8B%E5%AF%AB%E6%95%B8%E5%AD%97%E8%BE%A8%E8%AD%98.ipynb\" target=\"_parent\"><img src=\"https://colab.research.google.com/assets/colab-badge.svg\" alt=\"Open In Colab\"/></a>"
      ]
    },
    {
      "cell_type": "markdown",
      "metadata": {
        "id": "4m1DCOw-Q4Fs"
      },
      "source": [
        "# 練習與調整過程 Code V.1\\~V.8"
      ]
    },
    {
      "cell_type": "code",
      "metadata": {
        "id": "__Ra1wZyUDpH"
      },
      "source": [
        "!pip install keras"
      ],
      "execution_count": null,
      "outputs": []
    },
    {
      "cell_type": "code",
      "metadata": {
        "id": "-RLSkg0FVHAI"
      },
      "source": [
        "import numpy as np\r\n",
        "from keras.models import Sequential\r\n",
        "from keras.layers.core import Dense, Dropout, Activation\r\n",
        "from keras.layers import Conv2D, MaxPooling2D, Flatten\r\n",
        "from keras.optimizers import SGD, Adam\r\n",
        "from keras.utils import np_utils\r\n",
        "from keras.datasets import mnist"
      ],
      "execution_count": null,
      "outputs": []
    },
    {
      "cell_type": "code",
      "metadata": {
        "id": "SWh-yl2wJiWG"
      },
      "source": [
        "#======測試========#\r\n",
        "# 查看 MNIST 資料集\r\n",
        "#==================#\r\n",
        "\r\n",
        "# 使用 Keras 的函式讀入資料集\r\n",
        "(x_train, y_train), (x_test, y_test) = mnist.load_data()\r\n",
        "\r\n",
        "# 查看原始訓練資料 Input: \r\n",
        "print(x_test.shape) # Training Data 共六萬筆，每一筆是 28*28 的矩陣，因此維度是 3\r\n",
        "print(\"--------------------\")\r\n",
        "x_train[0]\r\n",
        "\r\n",
        "# 查看原始訓練資料 Output (Label): \r\n",
        "print(y_train.shape) # Training Labels 亦為六萬筆，每一筆是一維資料，顯示手寫數字的對應值\r\n",
        "print(\"--------------------\")\r\n",
        "y_train[0]"
      ],
      "execution_count": null,
      "outputs": []
    },
    {
      "cell_type": "code",
      "metadata": {
        "id": "pLuzA5kHVL_p"
      },
      "source": [
        "# 製作匯入資料的函式，內部同時進行資料預處理(維度轉換、資料刪減、增加雜訊、隨機排序、資料正歸化、)\r\n",
        "def load_data():  # categorical_crossentropy\r\n",
        "    # 透過 Keras Function 讀入資料集\r\n",
        "    (x_train, y_train), (x_test, y_test) = mnist.load_data()\r\n",
        "    \r\n",
        "    # 資料預處理\r\n",
        "    ## 減少訓練資料：原本的資料集有60,000筆訓練資料，此處將訓練資料限制為10,000筆\r\n",
        "    number = 10000\r\n",
        "    x_train = x_train[0:number] \r\n",
        "    y_train = y_train[0:number]\r\n",
        "    \r\n",
        "    ## 維度轉換，將二維矩陣(Image:28*28)，改成一維陣列(Array:28*28=784)\r\n",
        "    x_train = x_train.reshape(number, 28 * 28) \r\n",
        "    x_test = x_test.reshape(x_test.shape[0], 28 * 28)\r\n",
        "    ## 以符點數變更資料型態\r\n",
        "    x_train = x_train.astype('float32')\r\n",
        "    x_test = x_test.astype('float32')\r\n",
        "    \r\n",
        "    ## 類別資料編碼：使用Keras的One-Hot Ecoding函數 np_utils.to_categorical\r\n",
        "    ## 將原始標籤的連續資料型態(Class Vector) 轉變成類別資料型態(Class Matrix)\r\n",
        "    y_train = np_utils.to_categorical(y_train, 10)\r\n",
        "    y_test = np_utils.to_categorical(y_test, 10)\r\n",
        "\r\n",
        "    ## 給測試資料加入雜訊\r\n",
        "    x_test = np.random.normal(x_test)  \r\n",
        "\r\n",
        "    ## 資料標準化\r\n",
        "    x_train = x_train / 255\r\n",
        "    x_test = x_test / 255\r\n",
        "\r\n",
        "    return (x_train, y_train), (x_test, y_test)"
      ],
      "execution_count": null,
      "outputs": []
    },
    {
      "cell_type": "code",
      "metadata": {
        "id": "FY90nyE8VmW6"
      },
      "source": [
        "# 載入手寫數字辨識資料 load training data and testing data\r\n",
        "(x_train, y_train), (x_test, y_test) = load_data()"
      ],
      "execution_count": null,
      "outputs": []
    },
    {
      "cell_type": "code",
      "metadata": {
        "id": "usNMduaxVT2k"
      },
      "source": [
        "# 測試\r\n",
        "print(x_train.shape) # Training Data 共一萬筆，每一筆是由 784 維 Vector 所組成\r\n",
        "print(\"--------------------\")\r\n",
        "x_train[0] # 查看第一個 Vector 的內容，這是一張手寫數字圖片"
      ],
      "execution_count": null,
      "outputs": []
    },
    {
      "cell_type": "code",
      "metadata": {
        "id": "tV2Uj_-nV2mi"
      },
      "source": [
        "# 測試\r\n",
        "print(y_train.shape) # \r\n",
        "print(\"--------------------\")\r\n",
        "y_train[0]"
      ],
      "execution_count": null,
      "outputs": []
    },
    {
      "cell_type": "code",
      "metadata": {
        "id": "3nXhP3DKnRtQ"
      },
      "source": [
        "    # [Code V1] -- Tran失敗 \r\n",
        "    #建立一個線性模型\r\n",
        "    model= Sequential()\r\n",
        "\r\n",
        "    # 建立 Hidden Layer 同時加入輸入層\r\n",
        "    model.add(Dense(input_dim=28 * 28, units=689, activation='sigmoid'))\r\n",
        "    model.add(Dense(units=700, activation='sigmoid'))\r\n",
        "    model.add(Dense(units=10, activation='softmax'))\r\n",
        "\r\n",
        "    # 設定 Loss Function\r\n",
        "    model.compile(loss='mse',\r\n",
        "          optimizer=SGD(lr=0.1), metrics=['accuracy'])\r\n",
        "    \r\n",
        "    # Train Model\r\n",
        "    model.fit(x_train, y_train, batch_size=100, epochs=20)\r\n",
        "\r\n",
        "    # Evaluate the model and output the accuracy\r\n",
        "    result_train = model.evaluate(x_train, y_train)\r\n",
        "    #result_test = model.evaluate(x_test, y_test)\r\n",
        "    print('Train Acc:', result_train[1])\r\n",
        "    #print('Test Acc:', result_test[1])"
      ],
      "execution_count": null,
      "outputs": []
    },
    {
      "cell_type": "markdown",
      "metadata": {
        "id": "kgjl7QlhJI1-"
      },
      "source": [
        "**Tran 失敗時該做的事情：**\r\n",
        "  1.   先設法使 Traning Set 達到好的結果 (Deep Learning 很容易Tran壞掉)\r\n",
        "    *   Debug: 此處 Loss Function 設得不好，線性平均距離的想法在此不適用，宜改為Cross Entropy 的方法(應用於分類問題，預測結果與實際結果都是假設為分布/抽樣/機率，兩個結果的鐘型曲線模型的重疊越多，理論上未知的不確定因素(Entropy 熵--ㄕㄤ(輸入法 ㄉㄧ))會越小；反之若差距很大則讓Entropy會越大。因此Cross Entropy的方法就是透過求Cross Entropy算式的最小值來找到 **能產生最佳的預測結果的模型**)\r\n",
        "\r\n",
        "\r\n",
        "\r\n"
      ]
    },
    {
      "cell_type": "code",
      "metadata": {
        "id": "GGLUa9BFTO1D"
      },
      "source": [
        "    # [Code V2] 修改 Loss Function 使用 Cross Entropy\r\n",
        "    #建立一個線性模型\r\n",
        "    model= Sequential()\r\n",
        "\r\n",
        "    # 建立 Hidden Layer 同時加入輸入層\r\n",
        "    model.add(Dense(input_dim=28 * 28, units=689, activation='sigmoid'))\r\n",
        "    model.add(Dense(units=700, activation='sigmoid'))\r\n",
        "    model.add(Dense(units=10, activation='softmax'))\r\n",
        "\r\n",
        "    # 設定 Loss Function\r\n",
        "    model.compile(loss='categorical_crossentropy',\r\n",
        "          optimizer=SGD(lr=0.1), metrics=['accuracy'])\r\n",
        "    \r\n",
        "    # Train Model\r\n",
        "    model.fit(x_train, y_train, batch_size=100, epochs=20)\r\n",
        "\r\n",
        "    # Evaluate the model and output the accuracy\r\n",
        "    result_train = model.evaluate(x_train, y_train)\r\n",
        "    #result_test = model.evaluate(x_test, y_test)\r\n",
        "    print('Train Acc:', result_train[1])\r\n",
        "    #print('Test Acc:', result_test[1])"
      ],
      "execution_count": null,
      "outputs": []
    },
    {
      "cell_type": "markdown",
      "metadata": {
        "id": "eWJCZ5TtUAzO"
      },
      "source": [
        "**Tran 失敗時該做的事情：**\r\n",
        "1.   先設法使 Traning Set 達到好的結果 --- OK\r\n",
        "2.   Batch Size 設定要夠大但不能過大\r\n",
        "  *   Batch Size夠大，程式才會啟用GPU做平行運算\r\n",
        "  *   Batch Size太大，GPU硬體不夠多，且一次拿一堆資料做運算則SGD每次計算的隨機性就變小，更新曲線變得太小、太平滑就容易卡在高原難以前進\r\n",
        "\r\n",
        "\r\n",
        "\r\n"
      ]
    },
    {
      "cell_type": "code",
      "metadata": {
        "id": "CrgfSVG9UXQd"
      },
      "source": [
        "    # [Code V3] 調整看看 Batch Size\r\n",
        "\r\n",
        "    # =========== #\r\n",
        "    # batch_size=100 得到 accuracy: 0.90 似乎不錯\r\n",
        "    # batch_size=10000 快速得到 accuracy: 0.11 看來毀了，批次量太大而卡在高原\r\n",
        "    # batch_size=1 更新過慢\r\n",
        "    # =========== #\r\n",
        "\r\n",
        "    #建立一個線性模型\r\n",
        "    model= Sequential()\r\n",
        "\r\n",
        "    # 建立 Hidden Layer 同時加入輸入層\r\n",
        "    model.add(Dense(input_dim=28 * 28, units=689, activation='sigmoid'))\r\n",
        "    model.add(Dense(units=700, activation='sigmoid'))\r\n",
        "    model.add(Dense(units=10, activation='softmax'))\r\n",
        "\r\n",
        "    # 設定 Loss Function\r\n",
        "    model.compile(loss='categorical_crossentropy',\r\n",
        "          optimizer=SGD(lr=0.1), metrics=['accuracy'])\r\n",
        "    \r\n",
        "    # Train Model\r\n",
        "    model.fit(x_train, y_train, batch_size=10000, epochs=20) \r\n",
        "\r\n",
        "    # Evaluate the model and output the accuracy\r\n",
        "    result_train = model.evaluate(x_train, y_train)\r\n",
        "    #result_test = model.evaluate(x_test, y_test)\r\n",
        "    print('Train Acc:', result_train[1])\r\n",
        "    #print('Test Acc:', result_test[1])"
      ],
      "execution_count": null,
      "outputs": []
    },
    {
      "cell_type": "markdown",
      "metadata": {
        "id": "4BDgqoULXOYV"
      },
      "source": [
        "**Tran 失敗時該做的事情：**\r\n",
        "1.   先設法使 Traning Set 達到好的結果 --- OK\r\n",
        "2.   Batch Size 設定要夠大但不能過大 --- OK\r\n",
        "3.   Layer 層數數量不宜過大\r\n",
        "  * 層數過多會導致 Gradient Vanishing"
      ]
    },
    {
      "cell_type": "code",
      "metadata": {
        "id": "6EUFdHUAXu1p"
      },
      "source": [
        "    # [Code V4] 試試修改層數\r\n",
        "\r\n",
        "    # =======\r\n",
        "    # Hidden Layer Numbers = 10\r\n",
        "    # 得到 Accuracy: 0.10\r\n",
        "    # 又卡住了，更新的微分值趨近於零，幾乎不更新了 \r\n",
        "    # =======\r\n",
        "\r\n",
        "    #建立一個線性模型\r\n",
        "    model= Sequential()\r\n",
        "\r\n",
        "    # 建立 Hidden Layer 同時加入輸入層\r\n",
        "    model.add(Dense(input_dim=28 * 28, units=689, activation='sigmoid'))\r\n",
        "    # 重複建立10層隱藏層\r\n",
        "    for i in range(10):\r\n",
        "      model.add(Dense(units=700, activation='sigmoid'))\r\n",
        "    model.add(Dense(units=10, activation='softmax'))\r\n",
        "\r\n",
        "    # 設定 Loss Function\r\n",
        "    model.compile(loss='categorical_crossentropy',\r\n",
        "          optimizer=SGD(lr=0.1), metrics=['accuracy'])\r\n",
        "    \r\n",
        "    # Train Model\r\n",
        "    model.fit(x_train, y_train, batch_size=100, epochs=20)\r\n",
        "\r\n",
        "    # Evaluate the model and output the accuracy\r\n",
        "    result_train = model.evaluate(x_train, y_train)\r\n",
        "    #result_test = model.evaluate(x_test, y_test)\r\n",
        "    print('Train Acc:', result_train[1])\r\n",
        "    #print('Test Acc:', result_test[1])"
      ],
      "execution_count": null,
      "outputs": []
    },
    {
      "cell_type": "markdown",
      "metadata": {
        "id": "os1ebS68Y3sN"
      },
      "source": [
        "**Tran 失敗時該做的事情：**\r\n",
        "1.   先設法使 Traning Set 達到好的結果 --- OK\r\n",
        "2.   Batch Size 設定要夠大但不能過大 --- OK\r\n",
        "3.   Layer 層數數量不宜過大 --- OK\r\n",
        "4.   修改 Activation Function\r\n",
        "  * 有趣的是當維持隱藏層為10層，直接改 Activation 為 ReLu 也能練起來"
      ]
    },
    {
      "cell_type": "code",
      "metadata": {
        "id": "d0S-t6PcY4DM"
      },
      "source": [
        "    # [Code V5] 修改Activation Function為ReLu\r\n",
        "\r\n",
        "    # =======\r\n",
        "    # 保持隱藏層=10，使用 ReLu 為激勵函數\r\n",
        "    # Traning Set 得到 Accuracy: 0.99 -- 驚人的訓練成功\r\n",
        "    # Testing Set 得到 Accuracy: 0.95 -- 似乎不錯的預測結果\r\n",
        "    #\r\n",
        "    # 隱藏層改回1，使用 ReLu 為激勵函數\r\n",
        "    # Traning Set 得到 Accuracy: 0.99\r\n",
        "    # Testing Set 得到 Accuracy: 0.95\r\n",
        "    # =======\r\n",
        "\r\n",
        "\r\n",
        "    #建立一個線性模型\r\n",
        "    model= Sequential()\r\n",
        "\r\n",
        "    # 建立 Hidden Layer 同時加入輸入層\r\n",
        "    model.add(Dense(input_dim=28 * 28, units=689, activation='relu'))\r\n",
        "    # 重複建立10層隱藏層\r\n",
        "    #for i in range(10):\r\n",
        "    #  model.add(Dense(units=700, activation='relu'))\r\n",
        "    #建立1層隱藏層\r\n",
        "    model.add(Dense(units=700, activation='relu'))\r\n",
        "    model.add(Dense(units=10, activation='softmax'))\r\n",
        "\r\n",
        "    # 設定 Loss Function\r\n",
        "    model.compile(loss='categorical_crossentropy',\r\n",
        "          optimizer=SGD(lr=0.1), metrics=['accuracy'])\r\n",
        "    \r\n",
        "    # Train Model\r\n",
        "    model.fit(x_train, y_train, batch_size=100, epochs=20)\r\n",
        "\r\n",
        "    # Evaluate the model and output the accuracy\r\n",
        "    result_train = model.evaluate(x_train, y_train)\r\n",
        "    print('Train Acc:', result_train[1])\r\n",
        "    result_test = model.evaluate(x_test, y_test)\r\n",
        "    print('Test Acc:', result_test[1])"
      ],
      "execution_count": null,
      "outputs": []
    },
    {
      "cell_type": "markdown",
      "metadata": {
        "id": "Krinun0IazXR"
      },
      "source": [
        "**Tran 失敗時該做的事情：**\r\n",
        "1.   先設法使 Traning Set 達到好的結果 --- OK\r\n",
        "2.   **嘗試標準化(Normalizing)** \r\n",
        "  * 前面自製的 Load 函數裡有對圖片的每個資料(Pixel)做標準化，原本的值是範圍0\\~255的整數，代表圖片像素的灰階值，Load 函數裡將資料除以255，使得資料的值變成範圍0\\~1之間的小數，1代表塗黑、0代表空白，(猜測：形成如同二元機率分布，而小數就代表接近兩端類別的距離。\r\n",
        "3.   Batch Size 設定要夠大但不能過大 --- OK\r\n",
        "4.   Layer 層數數量不宜過大 --- OK\r\n",
        "5.   修改 Activation Function"
      ]
    },
    {
      "cell_type": "code",
      "metadata": {
        "id": "Tvam1K5Kay__"
      },
      "source": [
        "    # [Code V6] 若沒標準化則會訓練不起來\r\n",
        "\r\n",
        "    # =======\r\n",
        "    # 若沒作資料標準化\r\n",
        "    # Traning Set 得到 Accuracy: 0.09\r\n",
        "    # =======\r\n",
        "\r\n",
        "    def load_data():  # categorical_crossentropy\r\n",
        "      (x_train, y_train), (x_test, y_test) = mnist.load_data()\r\n",
        "      number = 10000\r\n",
        "      x_train = x_train[0:number] \r\n",
        "      y_train = y_train[0:number]\r\n",
        "      x_train = x_train.reshape(number, 28 * 28) \r\n",
        "      x_test = x_test.reshape(x_test.shape[0], 28 * 28)\r\n",
        "      x_train = x_train.astype('float32')\r\n",
        "      x_test = x_test.astype('float32')\r\n",
        "      y_train = np_utils.to_categorical(y_train, 10)\r\n",
        "      y_test = np_utils.to_categorical(y_test, 10)\r\n",
        "      x_test = np.random.normal(x_test)  \r\n",
        "\r\n",
        "      # 取消標準化\r\n",
        "      #x_train = x_train / 255\r\n",
        "      #x_test = x_test / 255\r\n",
        "\r\n",
        "      return (x_train, y_train), (x_test, y_test)\r\n",
        "    \r\n",
        "    # 重讀資料\r\n",
        "    (x_train, y_train), (x_test, y_test) = load_data()\r\n",
        "\r\n",
        "    #建立一個線性模型\r\n",
        "    model= Sequential()\r\n",
        "\r\n",
        "    # 建立 Hidden Layer 同時加入輸入層\r\n",
        "    model.add(Dense(input_dim=28 * 28, units=689, activation='relu'))\r\n",
        "    # 重複建立10層隱藏層\r\n",
        "    for i in range(10):\r\n",
        "      model.add(Dense(units=700, activation='relu'))\r\n",
        "    model.add(Dense(units=10, activation='softmax'))\r\n",
        "\r\n",
        "    # 設定 Loss Function\r\n",
        "    model.compile(loss='categorical_crossentropy',\r\n",
        "          optimizer=SGD(lr=0.1), metrics=['accuracy'])\r\n",
        "    \r\n",
        "    # Train Model\r\n",
        "    model.fit(x_train, y_train, batch_size=100, epochs=20)\r\n",
        "\r\n",
        "    # Evaluate the model and output the accuracy\r\n",
        "    #result_train = model.evaluate(x_train, y_train)\r\n",
        "    result_test = model.evaluate(x_test, y_test)\r\n",
        "    #print('Train Acc:', result_train[1])\r\n",
        "    print('Test Acc:', result_test[1])"
      ],
      "execution_count": null,
      "outputs": []
    },
    {
      "cell_type": "markdown",
      "metadata": {
        "id": "_EbWKm0DfPJu"
      },
      "source": [
        "**Tran 失敗時該做的事情：**\r\n",
        "1.   先設法使 Traning Set 達到好的結果 --- OK\r\n",
        "2.   嘗試標準化(Normalizing)\r\n",
        "3.   Batch Size 設定要夠大但不能過大 --- OK\r\n",
        "4.   Layer 層數數量不宜過大 --- OK\r\n",
        "5.   修改 Activation Function\r\n",
        "6.   修改 Optimizer (Traning Gradient Descenr 的方法)\r\n",
        "  * 改為 Adam 會發現剛開始的正確率飆升地更快 (但通常伴隨難以收斂的問題)"
      ]
    },
    {
      "cell_type": "code",
      "metadata": {
        "id": "Rmwubvk-fqeo"
      },
      "source": [
        "    # [Code V7] 更改 Traning Gradient Descenr 的策略\r\n",
        "\r\n",
        "    # =======\r\n",
        "    # 改為 Adam\r\n",
        "    # Traning Set 得到 Accuracy: 1 (100%)，\r\n",
        "    #   並且 Epoch 1->2 時，Acc: 0.77->0.95， \r\n",
        "    #   相較使用 SGD 時，Acc:0.67->0.89， 顯然 Adam 爬升更快速\r\n",
        "    # Testing Set 得到 Accuracy: 0.961\r\n",
        "    # =======\r\n",
        "\r\n",
        "    # 建立一個線性模型\r\n",
        "    model= Sequential()\r\n",
        "\r\n",
        "    # 建立 Hidden Layer 同時加入輸入層\r\n",
        "    model.add(Dense(input_dim=28 * 28, units=689, activation='relu'))\r\n",
        "\r\n",
        "    # 建立隱藏層\r\n",
        "    model.add(Dense(units=700, activation='relu'))\r\n",
        "\r\n",
        "    # 建立輸出層\r\n",
        "    model.add(Dense(units=10, activation='softmax'))\r\n",
        "\r\n",
        "    # 設定 Loss Function 並使用 Adam\r\n",
        "    model.compile(loss='categorical_crossentropy',\r\n",
        "          optimizer='Adam', metrics=['accuracy'])\r\n",
        "    \r\n",
        "    # Train Model\r\n",
        "    model.fit(x_train, y_train, batch_size=100, epochs=20)\r\n",
        "\r\n",
        "    # Evaluate the model and output the accuracy\r\n",
        "    result_train = model.evaluate(x_train, y_train)\r\n",
        "    print('Train Acc:', result_train[1])\r\n",
        "    result_test = model.evaluate(x_test, y_test)\r\n",
        "    print('Test Acc:', result_test[1])"
      ],
      "execution_count": null,
      "outputs": []
    },
    {
      "cell_type": "markdown",
      "metadata": {
        "id": "Bc02WB-Mh9vE"
      },
      "source": [
        "**Tran 失敗時該做的事情：**\r\n",
        "1.   先設法使 Traning Set 達到好的結果 --- OK\r\n",
        "2.   嘗試標準化(Normalizing)\r\n",
        "3.   Batch Size 設定要夠大但不能過大 --- OK\r\n",
        "4.   Layer 層數數量不宜過大 --- OK\r\n",
        "5.   修改 Activation Function\r\n",
        "6.   修改 Optimizer (Traning Gradient Descenr 的方法)\r\n",
        "7.   當發生 Overfitting 時， 可以使用 Dropout\r\n",
        "  * 課程範例是在此時給 Testing Data 加入 Noise，然後 Model 就 Overfitting， 預測不準\r\n",
        "  * 幸運的是，本 Code 一開始就不小心加入 Noise 作訓練， 正確率已達 0.965，但仍能看看 Dropout 的效果 (應該會不佳?)\r\n",
        "  * 注意使用時機: Overfitting，且如果預測結果差異很大，Dropout Rate 可以設 >0.5，而通常是先試 Rate=0.5 \r\n",
        "  * 注意使用方法: Dropout 要加在每個 Hidden Layer 後面 (包含輸入層，不包含輸出層)\r\n",
        "  * 注意分析結果: Testing 預測結果理應變好，且 **Traning 結果反而會變差**，綁住 Network 手腳 (去掉一些 Node(Neuron))"
      ]
    },
    {
      "cell_type": "code",
      "metadata": {
        "id": "AHoP7mIvi-mG"
      },
      "source": [
        "    # [Code V8] 嘗試加入 Dropout\r\n",
        "\r\n",
        "    # =======\r\n",
        "    # Traning Set 得到 Accuracy: 0.999\r\n",
        "    # Testing Set 得到 Accuracy: 0.964\r\n",
        "    # Traning Accuracy 從 1 下降為 0.999\r\n",
        "    # Testing Accuracy 從 0.961 上升至 0.965 \r\n",
        "    # =======\r\n",
        "\r\n",
        "    # 建立一個線性模型\r\n",
        "    model= Sequential()\r\n",
        "\r\n",
        "    # 建立 Hidden Layer 同時加入輸入層\r\n",
        "    model.add(Dense(input_dim=28 * 28, units=689, activation='relu'))\r\n",
        "    model.add(Dropout(0.5)) # 加 Dropout\r\n",
        "    # 建立隱藏層\r\n",
        "    model.add(Dense(units=700, activation='relu'))\r\n",
        "    model.add(Dropout(0.5)) # 加 Dropout\r\n",
        "    # 建立輸出層\r\n",
        "    model.add(Dense(units=10, activation='softmax'))\r\n",
        "\r\n",
        "    # 設定 Loss Function 並使用 Adam\r\n",
        "    model.compile(loss='categorical_crossentropy',\r\n",
        "          optimizer='Adam', metrics=['accuracy'])\r\n",
        "    \r\n",
        "    # Train Model\r\n",
        "    model.fit(x_train, y_train, batch_size=100, epochs=20)\r\n",
        "\r\n",
        "    # Evaluate the model and output the accuracy\r\n",
        "    result_train = model.evaluate(x_train, y_train)\r\n",
        "    print('Train Acc:', result_train[1])\r\n",
        "    result_test = model.evaluate(x_test, y_test)\r\n",
        "    print('Test Acc:', result_test[1])"
      ],
      "execution_count": null,
      "outputs": []
    },
    {
      "cell_type": "markdown",
      "metadata": {
        "id": "CHp4LFT2QlW6"
      },
      "source": [
        "\r\n",
        "\r\n",
        "---\r\n",
        "\r\n"
      ]
    },
    {
      "cell_type": "markdown",
      "metadata": {
        "id": "YUvmZ8eHQoEm"
      },
      "source": [
        "# 最終完整的神經網路 Code"
      ]
    },
    {
      "cell_type": "code",
      "metadata": {
        "id": "PaWOaN9_RLxA"
      },
      "source": [
        "# 引入 Keras 及其他必要套件\r\n",
        "import numpy as np\r\n",
        "from keras.models import Sequential\r\n",
        "from keras.models import load_model \r\n",
        "from keras.layers.core import Dense, Dropout, Activation\r\n",
        "from keras.layers import Conv2D, MaxPooling2D, Flatten\r\n",
        "from keras.optimizers import SGD, Adam\r\n",
        "from keras.utils import np_utils\r\n",
        "from keras.datasets import mnist"
      ],
      "execution_count": null,
      "outputs": []
    },
    {
      "cell_type": "code",
      "metadata": {
        "id": "7hDdly_bRUum"
      },
      "source": [
        "# 製作匯入資料的函式，內部同時進行資料預處理(維度轉換、資料刪減、增加雜訊、隨機排序、資料正歸化、)\r\n",
        "def load_data():  # categorical_crossentropy\r\n",
        "    # 透過 Keras Function 讀入資料集\r\n",
        "    (x_train, y_train), (x_test, y_test) = mnist.load_data()\r\n",
        "    \r\n",
        "    # 資料預處理\r\n",
        "    ## 減少訓練資料：原本的資料集有60,000筆訓練資料，此處將訓練資料限制為10,000筆\r\n",
        "    number = 10000\r\n",
        "    x_train = x_train[0:number] \r\n",
        "    y_train = y_train[0:number]\r\n",
        "    \r\n",
        "    ## 維度轉換，將二維矩陣(Image:28*28)，改成一維陣列(Array:28*28=784)\r\n",
        "    x_train = x_train.reshape(number, 28 * 28) \r\n",
        "    x_test = x_test.reshape(x_test.shape[0], 28 * 28)\r\n",
        "    ## 以符點數變更資料型態\r\n",
        "    x_train = x_train.astype('float32')\r\n",
        "    x_test = x_test.astype('float32')\r\n",
        "    \r\n",
        "    ## 類別資料編碼：使用Keras的One-Hot Ecoding函數 np_utils.to_categorical\r\n",
        "    ## 將原始標籤的連續資料型態(Class Vector) 轉變成類別資料型態(Class Matrix)\r\n",
        "    y_train = np_utils.to_categorical(y_train, 10)\r\n",
        "    y_test = np_utils.to_categorical(y_test, 10)\r\n",
        "\r\n",
        "    ## 給測試資料加入雜訊\r\n",
        "    x_test = np.random.normal(x_test)  \r\n",
        "\r\n",
        "    ## 資料標準化\r\n",
        "    x_train = x_train / 255\r\n",
        "    x_test = x_test / 255\r\n",
        "\r\n",
        "    return (x_train, y_train), (x_test, y_test)"
      ],
      "execution_count": null,
      "outputs": []
    },
    {
      "cell_type": "code",
      "metadata": {
        "id": "RUu6hcVjRZgN"
      },
      "source": [
        "# 載入手寫數字辨識資料 load training data and testing data\r\n",
        "(x_train, y_train), (x_test, y_test) = load_data()"
      ],
      "execution_count": null,
      "outputs": []
    },
    {
      "cell_type": "code",
      "metadata": {
        "id": "SekuC7M0ZpN4"
      },
      "source": [
        "# [Code V9] 完成的 Code \r\n",
        "# (Code在輸出預測的部分好像有點問題，因為 Testing 時分開不能使用到 Dropout)\r\n",
        "# 應該要 Tran 好 Model 後下參數，Testing 時不再加 Dropout\r\n",
        "\r\n",
        "# 建立一個線性模型\r\n",
        "model = Sequential()\r\n",
        "\r\n",
        "# 建立 Hidden Layer 同時加入輸入層\r\n",
        "model.add(Dense(input_dim=28 * 28, units=500, activation='relu'))\r\n",
        "model.add(Dropout(0.5)) # Dropout放棄一些神經元，Overfitting 時使用\r\n",
        "\r\n",
        "## 建立輸出層\r\n",
        "model.add(Dense(units=500, activation='relu'))\r\n",
        "model.add(Dropout(0.5))# Dropout放棄一些神經元，Overfitting 時使用\r\n",
        "\r\n",
        "# 建立輸出層(維度需要對應Labels)\r\n",
        "model.add(Dense(units=10, activation='softmax'))\r\n",
        "\r\n",
        "# 設定 Loss Function，使用 CrossEntropy\r\n",
        "model.compile(loss='categorical_crossentropy',\r\n",
        "              optimizer='adam', metrics=['accuracy'])\r\n",
        "\r\n",
        "# Train Model\r\n",
        "model.fit(x_train, y_train, batch_size=100, epochs=20)\r\n",
        "\r\n",
        "# Save Neuron's Parameter\r\n",
        "model.save('./sample_data/File_SaveModel/Model_Parameter_useDropout.h5')\r\n",
        "print('Save Parameter Successfully')\r\n",
        "\r\n",
        "# Evaluate the model and output the accuracy\r\n",
        "result_train = model.evaluate(x_train, y_train)\r\n",
        "print('Train Acc:', result_train[1])"
      ],
      "execution_count": null,
      "outputs": []
    },
    {
      "cell_type": "code",
      "metadata": {
        "id": "dP9C2D5XVM8H"
      },
      "source": [
        "# 測試模型\r\n",
        "\r\n",
        "## 載入參數\r\n",
        "model_rebuild = load_model('/content/sample_data/File_SaveModel/Model_Parameter_useDropout.h5')\r\n",
        "\r\n",
        "## 測試模型\r\n",
        "score = model_rebuild.evaluate(x_test, y_test)\r\n",
        "\r\n",
        "## 印出結果\r\n",
        "print('---測試結果如下----')\r\n",
        "print('Test loss: ', score[0])\r\n",
        "print('Test accuracy: ', score[1])"
      ],
      "execution_count": null,
      "outputs": []
    },
    {
      "cell_type": "code",
      "metadata": {
        "id": "v8wL4mUw4qEz"
      },
      "source": [
        "# 視覺化\r\n",
        "import matplotlib.pyplot as plt\r\n",
        "\r\n",
        "# 定義顯示圖片的函數，參數(images:輸入Model的圖像特徵值, labels:輸出Model的標籤, \r\n",
        "#             prediction:預測值, idx:顯示圖像的起始編號, num:顯示圖像的總數)\r\n",
        "def plot_images_labels_prediction(images,labels,prediction,idx,num=10):\r\n",
        "  # 取得 pyplot 物件 -- Figure(畫布)\r\n",
        "  fig=plt.gcf() \r\n",
        "\r\n",
        "  # 設定畫布大小為 12*14\r\n",
        "  fig.set_size_inches(12, 14) \r\n",
        "\r\n",
        "  # 限制最多顯示 25 個子圖\r\n",
        "  if num > 25: num=25 \r\n",
        "  \r\n",
        "  # 依序顯示 num 個子圖\r\n",
        "  for i in range(0, num): \r\n",
        "    # 建立 5*5 個子圖中的第 i+1 個\r\n",
        "    ax=plt.subplot(5, 5, i+1) \r\n",
        "    \r\n",
        "    # 顯示子圖\r\n",
        "    ax.imshow(images[idx], cmap='binary') \r\n",
        "    title=\"label=\" + str(labels[idx])\r\n",
        "    \r\n",
        "    # 若有預測值就加入標題中\r\n",
        "    if len(prediction) > 0: \r\n",
        "      title += \",predict=\" + str(prediction[idx])\r\n",
        "\r\n",
        "    # 設定標題\r\n",
        "    ax.set_title(title, fontsize=10) \r\n",
        "    # 不顯示 x 軸刻度\r\n",
        "    ax.set_xticks([]); \r\n",
        "    # 不顯示 y 軸刻度\r\n",
        "    ax.set_yticks([]); \r\n",
        "    # 樣本序號增量 1\r\n",
        "    idx += 1 \r\n",
        "  # 繪製圖形  \r\n",
        "  plt.show() "
      ],
      "execution_count": null,
      "outputs": []
    },
    {
      "cell_type": "code",
      "metadata": {
        "id": "dxfjcJ4643BK"
      },
      "source": [
        "# 進行預測並繪出圖像\r\n",
        "## 紀錄預測值\r\n",
        "prediction = model.predict_classes(x_test)\r\n",
        "\r\n",
        "## 反轉(特徵值從陣列轉回矩陣、類別資料轉回連續資料)\r\n",
        "Image = x_test.reshape(10000, 28, 28)\r\n",
        "Label = y_test.argmax(1)\r\n",
        "\r\n",
        "plot_images_labels_prediction(Image, Label, prediction, 300, 25)"
      ],
      "execution_count": null,
      "outputs": []
    }
  ]
}